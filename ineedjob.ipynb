{
 "cells": [
  {
   "cell_type": "code",
   "execution_count": 61,
   "metadata": {},
   "outputs": [],
   "source": [
    "from pyresparser import ResumeParser\n",
    "import os\n",
    "from docx import Document"
   ]
  },
  {
   "cell_type": "code",
   "execution_count": 62,
   "metadata": {},
   "outputs": [],
   "source": [
    "import numpy as np\n",
    "import pandas as pd\n",
    "import nltk\n",
    "from nltk.corpus import stopwords\n",
    "stopw  = set(stopwords.words('english'))\n",
    "df =pd.read_csv('jobrec.csv') "
   ]
  },
  {
   "cell_type": "code",
   "execution_count": 63,
   "metadata": {},
   "outputs": [
    {
     "data": {
      "text/plain": [
       "(1924, 6)"
      ]
     },
     "execution_count": 63,
     "metadata": {},
     "output_type": "execute_result"
    }
   ],
   "source": [
    "df.shape"
   ]
  },
  {
   "cell_type": "code",
   "execution_count": 64,
   "metadata": {},
   "outputs": [
    {
     "data": {
      "text/html": [
       "<div>\n",
       "<style scoped>\n",
       "    .dataframe tbody tr th:only-of-type {\n",
       "        vertical-align: middle;\n",
       "    }\n",
       "\n",
       "    .dataframe tbody tr th {\n",
       "        vertical-align: top;\n",
       "    }\n",
       "\n",
       "    .dataframe thead th {\n",
       "        text-align: right;\n",
       "    }\n",
       "</style>\n",
       "<table border=\"1\" class=\"dataframe\">\n",
       "  <thead>\n",
       "    <tr style=\"text-align: right;\">\n",
       "      <th></th>\n",
       "      <th>Unnamed: 0</th>\n",
       "      <th>Category</th>\n",
       "      <th>Position</th>\n",
       "      <th>Company</th>\n",
       "      <th>Location</th>\n",
       "      <th>Job_Description</th>\n",
       "    </tr>\n",
       "  </thead>\n",
       "  <tbody>\n",
       "    <tr>\n",
       "      <th>0</th>\n",
       "      <td>0</td>\n",
       "      <td>Testing</td>\n",
       "      <td>Software Testing Internship</td>\n",
       "      <td>Smart Food Safe Solutions Inc</td>\n",
       "      <td>– Bengaluru</td>\n",
       "      <td>About the company:\\nSmart Food Safe Solutions ...</td>\n",
       "    </tr>\n",
       "    <tr>\n",
       "      <th>1</th>\n",
       "      <td>1</td>\n",
       "      <td>Testing</td>\n",
       "      <td>Embedded Software Testing</td>\n",
       "      <td>Mobiveil</td>\n",
       "      <td>– Bengaluru</td>\n",
       "      <td>Location : Bangalore\\nExperience : 4+ Years\\n\\...</td>\n",
       "    </tr>\n",
       "    <tr>\n",
       "      <th>2</th>\n",
       "      <td>2</td>\n",
       "      <td>Testing</td>\n",
       "      <td>Senior Engineer - Software Testing (Bangalore ...</td>\n",
       "      <td>Open Systems International</td>\n",
       "      <td>– Bengaluru</td>\n",
       "      <td>Open Systems International, Inc. (OSI) www.osi...</td>\n",
       "    </tr>\n",
       "    <tr>\n",
       "      <th>3</th>\n",
       "      <td>3</td>\n",
       "      <td>Testing</td>\n",
       "      <td>Software Testing Engineer</td>\n",
       "      <td>Bloom Solutions</td>\n",
       "      <td>– Bengaluru</td>\n",
       "      <td>About the Job\\n\\nSoftware Testing Engineer\\n\\n...</td>\n",
       "    </tr>\n",
       "    <tr>\n",
       "      <th>4</th>\n",
       "      <td>4</td>\n",
       "      <td>Engineer</td>\n",
       "      <td>CIEL/SEL/1888: Software testing Engineer</td>\n",
       "      <td>CIEL HR Services</td>\n",
       "      <td>– Bengaluru</td>\n",
       "      <td>Location: Bangalore\\nExperience: 3 to 6Years\\n...</td>\n",
       "    </tr>\n",
       "  </tbody>\n",
       "</table>\n",
       "</div>"
      ],
      "text/plain": [
       "   Unnamed: 0  Category                                           Position  \\\n",
       "0           0   Testing                        Software Testing Internship   \n",
       "1           1   Testing                          Embedded Software Testing   \n",
       "2           2   Testing  Senior Engineer - Software Testing (Bangalore ...   \n",
       "3           3   Testing                          Software Testing Engineer   \n",
       "4           4  Engineer           CIEL/SEL/1888: Software testing Engineer   \n",
       "\n",
       "                         Company      Location  \\\n",
       "0  Smart Food Safe Solutions Inc   – Bengaluru   \n",
       "1                       Mobiveil   – Bengaluru   \n",
       "2     Open Systems International   – Bengaluru   \n",
       "3                Bloom Solutions   – Bengaluru   \n",
       "4               CIEL HR Services   – Bengaluru   \n",
       "\n",
       "                                     Job_Description  \n",
       "0  About the company:\\nSmart Food Safe Solutions ...  \n",
       "1  Location : Bangalore\\nExperience : 4+ Years\\n\\...  \n",
       "2  Open Systems International, Inc. (OSI) www.osi...  \n",
       "3  About the Job\\n\\nSoftware Testing Engineer\\n\\n...  \n",
       "4  Location: Bangalore\\nExperience: 3 to 6Years\\n...  "
      ]
     },
     "execution_count": 64,
     "metadata": {},
     "output_type": "execute_result"
    }
   ],
   "source": [
    "df.head()"
   ]
  },
  {
   "cell_type": "markdown",
   "metadata": {},
   "source": [
    "# Loading the job description into sentence"
   ]
  },
  {
   "cell_type": "code",
   "execution_count": 65,
   "metadata": {},
   "outputs": [
    {
     "data": {
      "text/plain": [
       "0       About company: Smart Food Safe Solutions Inc. ...\n",
       "1       Location Bangalore Experience Years Job Descri...\n",
       "2       Open Systems International, Inc. (OSI) www.osi...\n",
       "3       About Job Software Testing Engineer Job Descri...\n",
       "4       Location: Bangalore Experience: 6Years Skills ...\n",
       "                              ...                        \n",
       "1919    Skills Qualifications: Years experience Strong...\n",
       "1920    Job TH10519_13189 Posted on: 29th May, 2019Job...\n",
       "1921    Job Description spend percent lives buildings....\n",
       "1922    (Job Number: 1905027) Job Title â€“ Web Develo...\n",
       "1923    marry design engineering language ways produce...\n",
       "Name: test, Length: 1924, dtype: object"
      ]
     },
     "execution_count": 65,
     "metadata": {},
     "output_type": "execute_result"
    }
   ],
   "source": [
    "df['test']=df['Job_Description'].apply(lambda x: ' '.join([word for word in str(x).split() if len(word)>2 and word not in (stopw)]))\n",
    "df['test']"
   ]
  },
  {
   "cell_type": "markdown",
   "metadata": {},
   "source": [
    "# what happening inside Resume parser"
   ]
  },
  {
   "cell_type": "code",
   "execution_count": 66,
   "metadata": {},
   "outputs": [
    {
     "name": "stdout",
     "output_type": "stream",
     "text": [
      "specify the path of the resume (format(.txt, .docx and .pdf))==CV.pdf\n"
     ]
    },
    {
     "name": "stderr",
     "output_type": "stream",
     "text": [
      "C:\\Users\\Hp\\.conda\\envs\\hariprakash\\lib\\site-packages\\spacy\\util.py:275: UserWarning: [W031] Model 'en_training' (0.0.0) requires spaCy v2.1 and is incompatible with the current spaCy version (2.3.7). This may lead to unexpected results or runtime errors. To resolve this, download a newer compatible model or retrain your custom model with the current spaCy version. For more details and available updates, run: python -m spacy validate\n",
      "  warnings.warn(warn_msg)\n"
     ]
    }
   ],
   "source": [
    "##file format should be in .txt , .docx or .pdf only\n",
    "filed=input('specify the path of the resume (format(.txt, .docx and .pdf))==')\n",
    "\n",
    "try:\n",
    "    doc = Document()\n",
    "    with open(filed, 'r') as file:\n",
    "        doc.add_paragraph(file.read())\n",
    "    doc.save(\"text.docx\")\n",
    "    data1 = ResumeParser('text.docx').get_extracted_data()\n",
    "\n",
    "except:\n",
    "    data1 = ResumeParser(filed).get_extracted_data()\n",
    "\n",
    "resume=data1['skills']"
   ]
  },
  {
   "cell_type": "code",
   "execution_count": 72,
   "metadata": {},
   "outputs": [
    {
     "data": {
      "text/plain": [
       "{'name': 'Kalash Jindal',\n",
       " 'email': 'jindalkalash298@gmail.com',\n",
       " 'mobile_number': '7839453651',\n",
       " 'skills': ['Computer science',\n",
       "  'C',\n",
       "  'C++',\n",
       "  'Training',\n",
       "  'Ui',\n",
       "  'Database',\n",
       "  'Analysis',\n",
       "  'Api',\n",
       "  'Testing',\n",
       "  'Coding',\n",
       "  'Modeling',\n",
       "  'Design',\n",
       "  'Opencv',\n",
       "  'Engineering',\n",
       "  'Github',\n",
       "  'Html',\n",
       "  'Programming',\n",
       "  'Css',\n",
       "  'Pyqt',\n",
       "  'Word',\n",
       "  'Algorithms',\n",
       "  'Statistics',\n",
       "  'Chemicals',\n",
       "  'Keras',\n",
       "  'Sci',\n",
       "  'Prototype',\n",
       "  'Python'],\n",
       " 'college_name': None,\n",
       " 'degree': None,\n",
       " 'designation': None,\n",
       " 'experience': None,\n",
       " 'company_names': None,\n",
       " 'no_of_pages': 3,\n",
       " 'total_experience': 0}"
      ]
     },
     "execution_count": 72,
     "metadata": {},
     "output_type": "execute_result"
    }
   ],
   "source": [
    "data1"
   ]
  },
  {
   "cell_type": "code",
   "execution_count": null,
   "metadata": {},
   "outputs": [],
   "source": [
    "\n"
   ]
  },
  {
   "cell_type": "code",
   "execution_count": 25,
   "metadata": {},
   "outputs": [
    {
     "name": "stdout",
     "output_type": "stream",
     "text": [
      "['Computer science', 'C', 'C++', 'Training', 'Ui', 'Database', 'Analysis', 'Api', 'Testing', 'Coding', 'Modeling', 'Design', 'Opencv', 'Engineering', 'Github', 'Html', 'Programming', 'Css', 'Pyqt', 'Word', 'Algorithms', 'Statistics', 'Chemicals', 'Keras', 'Sci', 'Prototype', 'Python']\n"
     ]
    }
   ],
   "source": [
    "print(resume)"
   ]
  },
  {
   "cell_type": "code",
   "execution_count": 26,
   "metadata": {},
   "outputs": [],
   "source": [
    "skills=[]\n",
    "skills.append(' '.join(word for word in resume))"
   ]
  },
  {
   "cell_type": "code",
   "execution_count": 27,
   "metadata": {},
   "outputs": [
    {
     "data": {
      "text/plain": [
       "['Computer science C C++ Training Ui Database Analysis Api Testing Coding Modeling Design Opencv Engineering Github Html Programming Css Pyqt Word Algorithms Statistics Chemicals Keras Sci Prototype Python']"
      ]
     },
     "execution_count": 27,
     "metadata": {},
     "output_type": "execute_result"
    }
   ],
   "source": [
    "skills"
   ]
  },
  {
   "cell_type": "markdown",
   "metadata": {},
   "source": [
    "# creating  a function  for  creating n grams "
   ]
  },
  {
   "cell_type": "code",
   "execution_count": 32,
   "metadata": {},
   "outputs": [],
   "source": [
    "import re\n",
    "\n",
    "from ftfy import fix_text\n",
    "\n",
    "def ngrams(string, n=3):\n",
    "    string = fix_text(string) # fix text bad unicode to good unicode \n",
    "    string = string.encode(\"ascii\", errors=\"ignore\").decode() #remove non ascii chars\n",
    "    string = string.lower()\n",
    "    chars_to_remove = [\")\",\"(\",\".\",\"|\",\"[\",\"]\",\"{\",\"}\",\"'\"]\n",
    "    rx = '[' + re.escape(''.join(chars_to_remove)) + ']'\n",
    "    string = re.sub(rx, '', string)\n",
    "    string = string.replace('&', 'and')\n",
    "    string = string.replace(',', ' ')\n",
    "    string = string.replace('-', ' ')\n",
    "    string = string.title() # normalise case - capital at start of each word\n",
    "    string = re.sub(' +',' ',string).strip() # get rid of multiple spaces and replace with a single\n",
    "    string = ' '+ string +' ' # pad names for ngrams...\n",
    "    string = re.sub(r'[,-./]|\\sBD',r'', string)\n",
    "    ngrams = zip(*[string[i:] for i in range(n)])\n",
    "    return [''.join(ngram) for ngram in ngrams]\n"
   ]
  },
  {
   "cell_type": "code",
   "execution_count": 33,
   "metadata": {},
   "outputs": [],
   "source": [
    "from sklearn.feature_extraction.text import TfidfVectorizer\n",
    "import re"
   ]
  },
  {
   "cell_type": "markdown",
   "metadata": {},
   "source": [
    "# vectorizer setting up in a ngram mode "
   ]
  },
  {
   "cell_type": "code",
   "execution_count": 34,
   "metadata": {
    "scrolled": true
   },
   "outputs": [],
   "source": [
    "vectorizer = TfidfVectorizer(min_df=1, analyzer=ngrams, lowercase=False)"
   ]
  },
  {
   "cell_type": "code",
   "execution_count": 35,
   "metadata": {},
   "outputs": [],
   "source": [
    "tfidf = vectorizer.fit_transform(skills)  #resume"
   ]
  },
  {
   "cell_type": "markdown",
   "metadata": {},
   "source": [
    "# resume done"
   ]
  },
  {
   "cell_type": "code",
   "execution_count": null,
   "metadata": {},
   "outputs": [],
   "source": []
  },
  {
   "cell_type": "code",
   "execution_count": 36,
   "metadata": {},
   "outputs": [],
   "source": [
    "from sklearn.neighbors import NearestNeighbors\n",
    "nbrs = NearestNeighbors(n_neighbors=1, n_jobs=-1).fit(tfidf)  #resume\n",
    "test = (df['test'].values.astype('U'))"
   ]
  },
  {
   "cell_type": "code",
   "execution_count": 37,
   "metadata": {},
   "outputs": [
    {
     "data": {
      "text/plain": [
       "array([\"About company: Smart Food Safe Solutions Inc. food safety compliance resource management solution designed global small medium scale food processing industries using domain-specific functional expertise form latest internet-based smart technologies Blockchain, IoT, Cloud Computing, Machine learning, Artificial Intelligence, etc. About internship/job: Selected intern's day-to-day responsibilities include: Reviewing software requirements preparing test cases Execute test cases (manual automated) analyze results Evaluate product code according specifications Report bugs errors development teams Work cross-functional teams ensure quality throughout software development lifecycle Exposure regression, API performance testing tools added advantage Who apply: Only students freshers apply who: available full time (in-office) internship relevant skills interests start internship 25th Mar'20 24th Apr'20 available duration months already graduated currently year study Females willing start/restart career may also apply Number internships/jobs available: Categories: Software Testing,Computer Science,Engineering\",\n",
       "       'Location Bangalore Experience Years Job Description Good different type testing proficient Python Based Test Script Automation Good experienced Embedded system testing module/component end end. Must willing test manually tests can’t automated due complexity How Apply: Email resumes jobs@mobiveil.com job title subject line.',\n",
       "       \"Open Systems International, Inc. (OSI) www.osii.com fast-paced, growing, high technology company, headquartered Medina, Minnesota. world leader Operations Technology (OT) field, OSI develops supplies state-of-the-art energy management, optimization control software solutions energy utility companies worldwide. currently openings Senior Engineer- Software Testing. Specific on-the-job training provided. position located ITPB, Whitefield, Bangalore, India office following responsibilities: Work software development groups create product well engineering groups deploy product. Work scrum team(s) ensure high quality products superior customer satisfaction. Author, execute maintain test charters, test cases, procedures plans, automated test scripts code. Design, develop, implement improve various test methodologies, plans automation. Review defect descriptions, requirements, designs incorporate test plans. Installation automation, test automation, release automation system administration. Build Configure Continuous Integration setup test environments. Requirements Minimum Bachelor's degree Computer Science, Software Engineering equivalent. Strong hands-on years’ experience Test Automation. years software Quality Assurance Testing experience. Extensive knowledge industry-leading tools methodologies. Strong understanding automated testing best practices. High level scripting skills (Python, Perl, Shell scripting). Demonstrated ability creating communicating testing status dashboards. Proficiency Linux, Windows UNIX environments. Proficiency source control system (such CVS, Subversion, Git, etc.). Excellent written, verbal interpersonal communication skills; comfortable communicating working geographically distributed teams. Innate desires automate, monitor continually improve everything sight. System Administration experience. Preferred Master’s degree Computer Science, Software Engineering equivalent. Experience Quality Assurance within Agile methodology. Experience automation frameworks (Selenium, Robot, Apache JMeter). Experience evaluating, recommending, deploying new tools technologies continually improve efficiency effectiveness Quality Assurance process. Experience various database technologies (such MySQL, Cassandra, MongoDB). Experience server virtualization, especially VMWare VSphere. General networking skills (Layer switches, TCP/IP, SNMP, etc.). Benefits OSI offers comprehensive benefit package full-time regular employees. Additional perks include flexible work hours, employee events, casual dress code more. Check Life OSI Facebook page see more. employee OSI access cutting edge technologies fun, professional, positive dynamic work environment. excellent opportunities growth development.\",\n",
       "       ...,\n",
       "       \"Job Description spend percent lives buildings. follows buildings spend lives enormous impact lives. do, feel, are, become. Siemens, believe everything people life deserves perfect place it. perfect place learn. perfect place grow. perfect place prosper. perfect place every stage life. How? driving trendsetting force joins proven leading-edge technologies increase productivity. The Digital Discrete Industries Division offers comprehensive portfolio seamlessly integrated hardware, software technology-based services order support manufacturing companies worldwide enhancing flexibility efficiency manufacturing processes reducing time market products. India, offices Bengaluru, Chennai, Gurgaon, Noida, Pune. Senior Developer perform lot exciting roles Digital Discrete Industries. Here, weâ€™re hiring Programmers. role, youâ€™ll work Software Engineer charge one Software projects, Programmers also serve Technical advisers management provide programming perspective requirements. Join team offer opportunity enter special management career path. make real matters Provide implementation design develop complex Real Time location application Windows Linux, specifically Application/UI layer using NodeJS Angular.Technical discussions project stakeholders globally distributed teamUnderstand software requirements functional quality attributes Application layer provide design solution. Good knowledge using design patterns.Design, implement document assigned component work product based project schedule. Write code/test code software component/ work productInvestigate fix software defects found test review team ensure product quality. Ensure quality developed component(s) work product(s) (conformance development process) technical delivery. Submit work products software configuration management. Perform regular technical coordination review client ensure risk identification support initiation risk mitigation Project Manager relevant project stakeholders.Team work agile environment What need make real matters engineering graduate years experience Development. Should Good knowledge Build, SCM/CI GitHub Tools.Should Strong Maven, SVN, GIT, Bamboo, JIRA, Confluence, Nexus, XLDeploy, SonarQube, BitBucket, Jenkin This role primarily based Bangalore. However, may get opportunity visit locations within India work demands. Weâ€™ve got quite lot offer. How you? Weâ€™re Siemens. collection 377,000 minds building future, one day time 200 countries. We're dedicated equality welcome applications reflect diversity communities work in. All employment decisions Siemens based qualifications, merit business need. Bring curiosity imagination, help shape tomorrow. Find Digital Discrete Industries at: http://www.siemens.co.in/en/our-businesses/digital-discrete industries.htmand Siemens careers at: www.siemens.com/careers Job ID: 116654 Organization: Internet Things Company: Siemens Technology Services Private Limited Experience Level: Experienced Professional Job Type: Full-time\",\n",
       "       \"(Job Number: 1905027) Job Title â€“ Web Developer Using detailed storyboard Instructional Designer describing illustrating required edits work Create e-learnings story board received IDs Publish e-learning LMS Locate eLearning Source Files previously published EDMS Determine whether re-publish entire course edit course objects Edit eLearning source files based directions indicated storyboard including Modifications graphics files Modifications sound files Modifications page text, illustrations, animations Modifications actions behaviors pages Quiz Test interaction modifications Publish modified objects re-package publishing necessary Test modified course errors omissions content technical perspective Publish course SumTotal DEV server. Work Instructional Designer review course course edits identified Instructional Designer SME publisihing DEV. Make requested edits course edits completed edits found, publish SumTotalQA server. Hand Learning Coordinator Domain testing Production Publication. Sharepoint website Updates Make updates sharepoint websites per instructions host links course content Take care basic Graphic design requirements like creating graphic materials The Purpose This Role support Various L&D Teams catering FMR Co, Strategic Advisors, Global Asset Allocation, Corporate services HR, FFIO, Pyramis Fidelity Canada creates/facilitates eLearning Asset Mgmt group. All learning content developed group hosted Sumtotal LMS. This role create learning solutions focusing User experience also best value generated Business. The Value You Deliver closely work Learning Development teams US, supporting developing various solutions address Business problems look user experience solutions come since products reach end users must benefit look latest technologies available ensure explore best possible solutions provide various Business needs The Skills Key role Technical Behavioral Articulate Storyline Claro Captivate Lectora Qualtrics Photoshop Illustrator LMS Good verbal written communication The Skills Good Have role XML XSLT, HTML5 CSS JAVA How Your Work Impacts Organization Various L&D Teams support caters FMR Co, Strategic Advisors, Global Asset Allocation, Corporate services HR, FFIO, Pyramis Fidelity Canada creates/facilitates eLearning Asset Mgmt group. All learning content developed group hosted Sumtotal LMS. team upgrading migrating eLearning courseware static responsive, beginning support learning mobile iOS platform. The teams work closely onshore counterparts execute tasks accordance agreed SLAâ€™s The Expertise Weâ€™re Looking For Graduation/Post Graduation preferably fine arts discipline Minimum years core e-learning development Graphic design (Articulate Storyline, Lectora, Captivate, Claro Flow, Photoshop, Illustrator) Minimum yearsâ€™ experience eLearning Industry Minimum yearsâ€™ experience working directly geographic locations Flexibility work 1300 â€“ 2200 hours shift Company Overview Fidelity Investments one world's largest providers financial services. Headquartered Boston, US, Fidelity's goal make financial expertise broadly accessible effective helping people live lives want. Privately held nearly years, Fidelity employs 45,000 associates focused long-term success customers. FMR (Fidelity Management Research) India Global Inhouse Center Fidelity Investments. Headquartered Bangalore, operations commenced 2003, FMR India another fully-functional unit Chennai. know visit FMR India Location Bangalore Manyata/EGL Chennai Shift timings: 1:00 10:00pm Operations Primary LocationIN-KRN-Bangalore Job LevelIndividual Contributor Education LevelBachelor's Degree (Â±16 years) FMR India Business UnitEnterprise Delivery Solutions OrganizationIndia Job Posting DateMay 2019, 10:08:49\",\n",
       "       'marry design engineering language ways produce impactful memorable experience journeys. partner way continuously improve clientsâ€™ digital maturity. Our Studio network brings optimal combination skill, scale, cost stage product development lifecycle. And need great transformational people want impact projects organizations work with. SKILLS AND EXPERIENCE ARE LOOKING FOR Minimum years relevant professional experience Ability establish trusted partnerships product heads, executive level stakeholders Expertise React JS, HTML5, Java Experience integrating Restful web services Comfort Agile Operating Models HOW YOU WILL FULFILL YOUR POTENTIAL You energetic, self-directed self-motivated, able build sustain long-term relationships clients colleagues Intuitively coalesce towards problems open mind, within context team You exceptional analytical skills, able apply knowledge experience decision-making arrive creative commercial solutions You possess strong desire learn contribute solutions ideas broad team You independent comfortable fast paced, ambiguous often multi-directional work environments Manage multiple tasks use sound judgment prioritizing Provide digitally-advanced financial products retail consumers Collaborate globally-located cross functional team building customer-centric products Analyze existing software implementations identify areas improvement provide estimates implementing new features Update maintain documentation team processes, best practices, software runbooks Help drive new, strategic, business line Integrate best class strategic partners Drive funnel optimization client acquisition Benefits Great globally diverse culture Flexible work-life balance Ongoing career development Relocation opportunities Competitive Salary'],\n",
       "      dtype='<U10542')"
      ]
     },
     "execution_count": 37,
     "metadata": {},
     "output_type": "execute_result"
    }
   ],
   "source": [
    "test"
   ]
  },
  {
   "cell_type": "markdown",
   "metadata": {},
   "source": [
    "# Creating a function which  resume skills is checking the near bys from glassdor job description"
   ]
  },
  {
   "cell_type": "code",
   "execution_count": 38,
   "metadata": {},
   "outputs": [],
   "source": [
    "\n",
    "def getNearestN(query):\n",
    "  queryTFIDF_ = vectorizer.transform(query) #vectorizing\n",
    "  distances, indices = nbrs.kneighbors(queryTFIDF_)  #nbrs is  resume skills vectorised\n",
    "  return distances, indices\n"
   ]
  },
  {
   "cell_type": "markdown",
   "metadata": {},
   "source": [
    "# Job description is passing  by calling the function"
   ]
  },
  {
   "cell_type": "code",
   "execution_count": 39,
   "metadata": {},
   "outputs": [],
   "source": [
    "distances, indices = getNearestN(test)\n",
    "test = list(test) \n",
    "matches = []"
   ]
  },
  {
   "cell_type": "code",
   "execution_count": null,
   "metadata": {},
   "outputs": [],
   "source": []
  },
  {
   "cell_type": "code",
   "execution_count": 40,
   "metadata": {},
   "outputs": [],
   "source": [
    "for i,j in enumerate(indices):\n",
    "    dist=round(distances[i][0],2)\n",
    "  \n",
    "    temp = [dist]\n",
    "    matches.append(temp)\n",
    "    \n",
    "matches = pd.DataFrame(matches, columns=['Match confidence'])"
   ]
  },
  {
   "cell_type": "code",
   "execution_count": 41,
   "metadata": {},
   "outputs": [
    {
     "data": {
      "text/html": [
       "<div>\n",
       "<style scoped>\n",
       "    .dataframe tbody tr th:only-of-type {\n",
       "        vertical-align: middle;\n",
       "    }\n",
       "\n",
       "    .dataframe tbody tr th {\n",
       "        vertical-align: top;\n",
       "    }\n",
       "\n",
       "    .dataframe thead th {\n",
       "        text-align: right;\n",
       "    }\n",
       "</style>\n",
       "<table border=\"1\" class=\"dataframe\">\n",
       "  <thead>\n",
       "    <tr style=\"text-align: right;\">\n",
       "      <th></th>\n",
       "      <th>Match confidence</th>\n",
       "    </tr>\n",
       "  </thead>\n",
       "  <tbody>\n",
       "    <tr>\n",
       "      <th>0</th>\n",
       "      <td>0.81</td>\n",
       "    </tr>\n",
       "    <tr>\n",
       "      <th>1</th>\n",
       "      <td>1.01</td>\n",
       "    </tr>\n",
       "    <tr>\n",
       "      <th>2</th>\n",
       "      <td>0.79</td>\n",
       "    </tr>\n",
       "    <tr>\n",
       "      <th>3</th>\n",
       "      <td>1.01</td>\n",
       "    </tr>\n",
       "    <tr>\n",
       "      <th>4</th>\n",
       "      <td>0.85</td>\n",
       "    </tr>\n",
       "  </tbody>\n",
       "</table>\n",
       "</div>"
      ],
      "text/plain": [
       "   Match confidence\n",
       "0              0.81\n",
       "1              1.01\n",
       "2              0.79\n",
       "3              1.01\n",
       "4              0.85"
      ]
     },
     "execution_count": 41,
     "metadata": {},
     "output_type": "execute_result"
    }
   ],
   "source": [
    "matches.head()"
   ]
  },
  {
   "cell_type": "code",
   "execution_count": null,
   "metadata": {},
   "outputs": [],
   "source": []
  },
  {
   "cell_type": "code",
   "execution_count": null,
   "metadata": {},
   "outputs": [],
   "source": []
  },
  {
   "cell_type": "code",
   "execution_count": 42,
   "metadata": {},
   "outputs": [
    {
     "data": {
      "text/html": [
       "<div>\n",
       "<style scoped>\n",
       "    .dataframe tbody tr th:only-of-type {\n",
       "        vertical-align: middle;\n",
       "    }\n",
       "\n",
       "    .dataframe tbody tr th {\n",
       "        vertical-align: top;\n",
       "    }\n",
       "\n",
       "    .dataframe thead th {\n",
       "        text-align: right;\n",
       "    }\n",
       "</style>\n",
       "<table border=\"1\" class=\"dataframe\">\n",
       "  <thead>\n",
       "    <tr style=\"text-align: right;\">\n",
       "      <th></th>\n",
       "      <th>Unnamed: 0</th>\n",
       "      <th>Category</th>\n",
       "      <th>Position</th>\n",
       "      <th>Company</th>\n",
       "      <th>Location</th>\n",
       "      <th>Job_Description</th>\n",
       "      <th>test</th>\n",
       "    </tr>\n",
       "  </thead>\n",
       "  <tbody>\n",
       "    <tr>\n",
       "      <th>0</th>\n",
       "      <td>0</td>\n",
       "      <td>Testing</td>\n",
       "      <td>Software Testing Internship</td>\n",
       "      <td>Smart Food Safe Solutions Inc</td>\n",
       "      <td>– Bengaluru</td>\n",
       "      <td>About the company:\\nSmart Food Safe Solutions ...</td>\n",
       "      <td>About company: Smart Food Safe Solutions Inc. ...</td>\n",
       "    </tr>\n",
       "    <tr>\n",
       "      <th>1</th>\n",
       "      <td>1</td>\n",
       "      <td>Testing</td>\n",
       "      <td>Embedded Software Testing</td>\n",
       "      <td>Mobiveil</td>\n",
       "      <td>– Bengaluru</td>\n",
       "      <td>Location : Bangalore\\nExperience : 4+ Years\\n\\...</td>\n",
       "      <td>Location Bangalore Experience Years Job Descri...</td>\n",
       "    </tr>\n",
       "    <tr>\n",
       "      <th>2</th>\n",
       "      <td>2</td>\n",
       "      <td>Testing</td>\n",
       "      <td>Senior Engineer - Software Testing (Bangalore ...</td>\n",
       "      <td>Open Systems International</td>\n",
       "      <td>– Bengaluru</td>\n",
       "      <td>Open Systems International, Inc. (OSI) www.osi...</td>\n",
       "      <td>Open Systems International, Inc. (OSI) www.osi...</td>\n",
       "    </tr>\n",
       "    <tr>\n",
       "      <th>3</th>\n",
       "      <td>3</td>\n",
       "      <td>Testing</td>\n",
       "      <td>Software Testing Engineer</td>\n",
       "      <td>Bloom Solutions</td>\n",
       "      <td>– Bengaluru</td>\n",
       "      <td>About the Job\\n\\nSoftware Testing Engineer\\n\\n...</td>\n",
       "      <td>About Job Software Testing Engineer Job Descri...</td>\n",
       "    </tr>\n",
       "    <tr>\n",
       "      <th>4</th>\n",
       "      <td>4</td>\n",
       "      <td>Engineer</td>\n",
       "      <td>CIEL/SEL/1888: Software testing Engineer</td>\n",
       "      <td>CIEL HR Services</td>\n",
       "      <td>– Bengaluru</td>\n",
       "      <td>Location: Bangalore\\nExperience: 3 to 6Years\\n...</td>\n",
       "      <td>Location: Bangalore Experience: 6Years Skills ...</td>\n",
       "    </tr>\n",
       "    <tr>\n",
       "      <th>...</th>\n",
       "      <td>...</td>\n",
       "      <td>...</td>\n",
       "      <td>...</td>\n",
       "      <td>...</td>\n",
       "      <td>...</td>\n",
       "      <td>...</td>\n",
       "      <td>...</td>\n",
       "    </tr>\n",
       "    <tr>\n",
       "      <th>1919</th>\n",
       "      <td>1919</td>\n",
       "      <td>Developer</td>\n",
       "      <td>Front End Developer</td>\n",
       "      <td>Cuemath</td>\n",
       "      <td>Bengaluru</td>\n",
       "      <td>Skills and Qualifications:\\n\\n2+ Years of expe...</td>\n",
       "      <td>Skills Qualifications: Years experience Strong...</td>\n",
       "    </tr>\n",
       "    <tr>\n",
       "      <th>1920</th>\n",
       "      <td>1920</td>\n",
       "      <td>Developer</td>\n",
       "      <td>Technology Lead-Sharepoint Developer</td>\n",
       "      <td>Infogain</td>\n",
       "      <td>Bengaluru</td>\n",
       "      <td>Job ID : TH10519_13189\\n\\nPosted on: 29th of M...</td>\n",
       "      <td>Job TH10519_13189 Posted on: 29th May, 2019Job...</td>\n",
       "    </tr>\n",
       "    <tr>\n",
       "      <th>1921</th>\n",
       "      <td>1921</td>\n",
       "      <td>Developer</td>\n",
       "      <td>Senior UI Developer</td>\n",
       "      <td>Siemens PLC</td>\n",
       "      <td>Bengaluru</td>\n",
       "      <td>Job Description\\nWe spend 90 percent of\\n\\nour...</td>\n",
       "      <td>Job Description spend percent lives buildings....</td>\n",
       "    </tr>\n",
       "    <tr>\n",
       "      <th>1922</th>\n",
       "      <td>1922</td>\n",
       "      <td>Developer</td>\n",
       "      <td>Web Developer</td>\n",
       "      <td>Fidelity Investments</td>\n",
       "      <td>Bengaluru</td>\n",
       "      <td>(Job Number: 1905027)\\n\\nJob Title â€“ Web Dev...</td>\n",
       "      <td>(Job Number: 1905027) Job Title â€“ Web Develo...</td>\n",
       "    </tr>\n",
       "    <tr>\n",
       "      <th>1923</th>\n",
       "      <td>1923</td>\n",
       "      <td>Developer</td>\n",
       "      <td>Front End Developer - (Javascript)</td>\n",
       "      <td>Softvision</td>\n",
       "      <td>Bengaluru</td>\n",
       "      <td>We marry design and engineering language in wa...</td>\n",
       "      <td>marry design engineering language ways produce...</td>\n",
       "    </tr>\n",
       "  </tbody>\n",
       "</table>\n",
       "<p>1924 rows × 7 columns</p>\n",
       "</div>"
      ],
      "text/plain": [
       "      Unnamed: 0   Category  \\\n",
       "0              0    Testing   \n",
       "1              1    Testing   \n",
       "2              2    Testing   \n",
       "3              3    Testing   \n",
       "4              4   Engineer   \n",
       "...          ...        ...   \n",
       "1919        1919  Developer   \n",
       "1920        1920  Developer   \n",
       "1921        1921  Developer   \n",
       "1922        1922  Developer   \n",
       "1923        1923  Developer   \n",
       "\n",
       "                                               Position  \\\n",
       "0                           Software Testing Internship   \n",
       "1                             Embedded Software Testing   \n",
       "2     Senior Engineer - Software Testing (Bangalore ...   \n",
       "3                             Software Testing Engineer   \n",
       "4              CIEL/SEL/1888: Software testing Engineer   \n",
       "...                                                 ...   \n",
       "1919                                Front End Developer   \n",
       "1920               Technology Lead-Sharepoint Developer   \n",
       "1921                                Senior UI Developer   \n",
       "1922                                      Web Developer   \n",
       "1923                 Front End Developer - (Javascript)   \n",
       "\n",
       "                            Company      Location  \\\n",
       "0     Smart Food Safe Solutions Inc   – Bengaluru   \n",
       "1                          Mobiveil   – Bengaluru   \n",
       "2        Open Systems International   – Bengaluru   \n",
       "3                   Bloom Solutions   – Bengaluru   \n",
       "4                  CIEL HR Services   – Bengaluru   \n",
       "...                             ...           ...   \n",
       "1919                        Cuemath     Bengaluru   \n",
       "1920                       Infogain     Bengaluru   \n",
       "1921                    Siemens PLC     Bengaluru   \n",
       "1922           Fidelity Investments     Bengaluru   \n",
       "1923                     Softvision     Bengaluru   \n",
       "\n",
       "                                        Job_Description  \\\n",
       "0     About the company:\\nSmart Food Safe Solutions ...   \n",
       "1     Location : Bangalore\\nExperience : 4+ Years\\n\\...   \n",
       "2     Open Systems International, Inc. (OSI) www.osi...   \n",
       "3     About the Job\\n\\nSoftware Testing Engineer\\n\\n...   \n",
       "4     Location: Bangalore\\nExperience: 3 to 6Years\\n...   \n",
       "...                                                 ...   \n",
       "1919  Skills and Qualifications:\\n\\n2+ Years of expe...   \n",
       "1920  Job ID : TH10519_13189\\n\\nPosted on: 29th of M...   \n",
       "1921  Job Description\\nWe spend 90 percent of\\n\\nour...   \n",
       "1922  (Job Number: 1905027)\\n\\nJob Title â€“ Web Dev...   \n",
       "1923  We marry design and engineering language in wa...   \n",
       "\n",
       "                                                   test  \n",
       "0     About company: Smart Food Safe Solutions Inc. ...  \n",
       "1     Location Bangalore Experience Years Job Descri...  \n",
       "2     Open Systems International, Inc. (OSI) www.osi...  \n",
       "3     About Job Software Testing Engineer Job Descri...  \n",
       "4     Location: Bangalore Experience: 6Years Skills ...  \n",
       "...                                                 ...  \n",
       "1919  Skills Qualifications: Years experience Strong...  \n",
       "1920  Job TH10519_13189 Posted on: 29th May, 2019Job...  \n",
       "1921  Job Description spend percent lives buildings....  \n",
       "1922  (Job Number: 1905027) Job Title â€“ Web Develo...  \n",
       "1923  marry design engineering language ways produce...  \n",
       "\n",
       "[1924 rows x 7 columns]"
      ]
     },
     "execution_count": 42,
     "metadata": {},
     "output_type": "execute_result"
    }
   ],
   "source": [
    "\n",
    "df\n"
   ]
  },
  {
   "cell_type": "code",
   "execution_count": 43,
   "metadata": {},
   "outputs": [
    {
     "data": {
      "text/html": [
       "<div>\n",
       "<style scoped>\n",
       "    .dataframe tbody tr th:only-of-type {\n",
       "        vertical-align: middle;\n",
       "    }\n",
       "\n",
       "    .dataframe tbody tr th {\n",
       "        vertical-align: top;\n",
       "    }\n",
       "\n",
       "    .dataframe thead th {\n",
       "        text-align: right;\n",
       "    }\n",
       "</style>\n",
       "<table border=\"1\" class=\"dataframe\">\n",
       "  <thead>\n",
       "    <tr style=\"text-align: right;\">\n",
       "      <th></th>\n",
       "      <th>index</th>\n",
       "      <th>Position</th>\n",
       "      <th>Category</th>\n",
       "      <th>Company</th>\n",
       "      <th>Location</th>\n",
       "      <th>match</th>\n",
       "    </tr>\n",
       "  </thead>\n",
       "  <tbody>\n",
       "    <tr>\n",
       "      <th>0</th>\n",
       "      <td>684</td>\n",
       "      <td>Data Scientist</td>\n",
       "      <td>Data Science</td>\n",
       "      <td>Atonarp</td>\n",
       "      <td>â€“ Bengaluru</td>\n",
       "      <td>0.66</td>\n",
       "    </tr>\n",
       "    <tr>\n",
       "      <th>1</th>\n",
       "      <td>80</td>\n",
       "      <td>Full-Stack Machine Learning Engineer/Data Scie...</td>\n",
       "      <td>Data Science</td>\n",
       "      <td>Oracle</td>\n",
       "      <td>– Bengaluru</td>\n",
       "      <td>0.67</td>\n",
       "    </tr>\n",
       "    <tr>\n",
       "      <th>2</th>\n",
       "      <td>1255</td>\n",
       "      <td>Data Scientist, Global Data Science Center of ...</td>\n",
       "      <td>Data Science</td>\n",
       "      <td>Visa</td>\n",
       "      <td>Bengaluru</td>\n",
       "      <td>0.67</td>\n",
       "    </tr>\n",
       "    <tr>\n",
       "      <th>3</th>\n",
       "      <td>101</td>\n",
       "      <td>Machine learning expert</td>\n",
       "      <td>Others</td>\n",
       "      <td>Insight Jedi</td>\n",
       "      <td>– Bengaluru</td>\n",
       "      <td>0.68</td>\n",
       "    </tr>\n",
       "    <tr>\n",
       "      <th>4</th>\n",
       "      <td>1102</td>\n",
       "      <td>Data Scientist</td>\n",
       "      <td>Data Science</td>\n",
       "      <td>Merak</td>\n",
       "      <td>Bengaluru</td>\n",
       "      <td>0.68</td>\n",
       "    </tr>\n",
       "    <tr>\n",
       "      <th>5</th>\n",
       "      <td>612</td>\n",
       "      <td>Systems Engineer (C++ Developer)</td>\n",
       "      <td>Developer</td>\n",
       "      <td>Quadeye</td>\n",
       "      <td>– Gurgaon</td>\n",
       "      <td>0.68</td>\n",
       "    </tr>\n",
       "    <tr>\n",
       "      <th>6</th>\n",
       "      <td>32</td>\n",
       "      <td>Machine Learning Engineer</td>\n",
       "      <td>Engineer</td>\n",
       "      <td>Involvio</td>\n",
       "      <td>– Bengaluru</td>\n",
       "      <td>0.68</td>\n",
       "    </tr>\n",
       "    <tr>\n",
       "      <th>7</th>\n",
       "      <td>464</td>\n",
       "      <td>Data Scientist , Apple Care Online Support</td>\n",
       "      <td>Data Science</td>\n",
       "      <td>Apple</td>\n",
       "      <td>– Bengaluru</td>\n",
       "      <td>0.68</td>\n",
       "    </tr>\n",
       "    <tr>\n",
       "      <th>8</th>\n",
       "      <td>328</td>\n",
       "      <td>Systems Engineer</td>\n",
       "      <td>Engineer</td>\n",
       "      <td>ADCI - Karnataka</td>\n",
       "      <td>– Bengaluru</td>\n",
       "      <td>0.68</td>\n",
       "    </tr>\n",
       "    <tr>\n",
       "      <th>9</th>\n",
       "      <td>389</td>\n",
       "      <td>Director-Data science</td>\n",
       "      <td>Data Science</td>\n",
       "      <td>Publicis Sapient</td>\n",
       "      <td>– Bengaluru</td>\n",
       "      <td>0.68</td>\n",
       "    </tr>\n",
       "  </tbody>\n",
       "</table>\n",
       "</div>"
      ],
      "text/plain": [
       "   index                                           Position      Category  \\\n",
       "0    684                                     Data Scientist  Data Science   \n",
       "1     80  Full-Stack Machine Learning Engineer/Data Scie...  Data Science   \n",
       "2   1255  Data Scientist, Global Data Science Center of ...  Data Science   \n",
       "3    101                            Machine learning expert        Others   \n",
       "4   1102                                     Data Scientist  Data Science   \n",
       "5    612                   Systems Engineer (C++ Developer)     Developer   \n",
       "6     32                          Machine Learning Engineer      Engineer   \n",
       "7    464         Data Scientist , Apple Care Online Support  Data Science   \n",
       "8    328                                   Systems Engineer      Engineer   \n",
       "9    389                              Director-Data science  Data Science   \n",
       "\n",
       "            Company        Location  match  \n",
       "0           Atonarp   â€“ Bengaluru   0.66  \n",
       "1            Oracle     – Bengaluru   0.67  \n",
       "2              Visa       Bengaluru   0.67  \n",
       "3      Insight Jedi     – Bengaluru   0.68  \n",
       "4             Merak       Bengaluru   0.68  \n",
       "5           Quadeye       – Gurgaon   0.68  \n",
       "6          Involvio     – Bengaluru   0.68  \n",
       "7             Apple     – Bengaluru   0.68  \n",
       "8  ADCI - Karnataka     – Bengaluru   0.68  \n",
       "9  Publicis Sapient     – Bengaluru   0.68  "
      ]
     },
     "execution_count": 43,
     "metadata": {},
     "output_type": "execute_result"
    }
   ],
   "source": [
    "df['match']=matches['Match confidence']\n",
    "df1=df.sort_values('match')\n",
    "df1[['Position','Category', 'Company','Location','match']].head(10).reset_index()"
   ]
  },
  {
   "cell_type": "code",
   "execution_count": 60,
   "metadata": {},
   "outputs": [
    {
     "data": {
      "text/plain": [
       "Data Science        742\n",
       "Developer           597\n",
       "Engineer            280\n",
       "Others               92\n",
       "Designer             51\n",
       "Architects           48\n",
       "Scientist            47\n",
       "Machine Learning     32\n",
       "Testing              29\n",
       "Pythoneers            6\n",
       "Name: Category, dtype: int64"
      ]
     },
     "execution_count": 60,
     "metadata": {},
     "output_type": "execute_result"
    }
   ],
   "source": [
    "df1['Category'].value_counts()"
   ]
  },
  {
   "cell_type": "code",
   "execution_count": 92,
   "metadata": {},
   "outputs": [
    {
     "data": {
      "text/plain": [
       "'Data Science'"
      ]
     },
     "execution_count": 92,
     "metadata": {},
     "output_type": "execute_result"
    }
   ],
   "source": [
    "df1['Category'].mode()[0]"
   ]
  },
  {
   "cell_type": "code",
   "execution_count": null,
   "metadata": {},
   "outputs": [],
   "source": []
  },
  {
   "cell_type": "code",
   "execution_count": null,
   "metadata": {},
   "outputs": [],
   "source": []
  }
 ],
 "metadata": {
  "kernelspec": {
   "display_name": "Python 3 (ipykernel)",
   "language": "python",
   "name": "python3"
  },
  "language_info": {
   "codemirror_mode": {
    "name": "ipython",
    "version": 3
   },
   "file_extension": ".py",
   "mimetype": "text/x-python",
   "name": "python",
   "nbconvert_exporter": "python",
   "pygments_lexer": "ipython3",
   "version": "3.8.12"
  }
 },
 "nbformat": 4,
 "nbformat_minor": 4
}
